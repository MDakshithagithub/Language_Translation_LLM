{
 "cells": [
  {
   "attachments": {},
   "cell_type": "markdown",
   "id": "b338dd53",
   "metadata": {},
   "source": [
    "## Project Introduction\n",
    "\n",
    "In this project, we seek to use LLMs to translate phrases from foreign languages to English and compare them with the translation found within the dataset to ascertain the accuracy of LLM translations."
   ]
  },
  {
   "attachments": {},
   "cell_type": "markdown",
   "id": "fc6e938c",
   "metadata": {},
   "source": [
    "## Data Preparation"
   ]
  },
  {
   "cell_type": "code",
   "execution_count": null,
   "id": "a47a83e3",
   "metadata": {},
   "outputs": [],
   "source": [
    "import pandas as pd"
   ]
  },
  {
   "cell_type": "code",
   "execution_count": null,
   "id": "4b6ed5d5",
   "metadata": {},
   "outputs": [
    {
     "data": {
      "application/vnd.jupyter.widget-view+json": {
       "model_id": "09f38d3c35a94d639cc68841f469c30c",
       "version_major": 2,
       "version_minor": 0
      },
      "text/plain": [
       "Downloading data:   0%|          | 0.00/17.8M [00:00<?, ?B/s]"
      ]
     },
     "metadata": {},
     "output_type": "display_data"
    },
    {
     "data": {
      "application/vnd.jupyter.widget-view+json": {
       "model_id": "3f60181c98974995a4ffea3a7a4ef734",
       "version_major": 2,
       "version_minor": 0
      },
      "text/plain": [
       "Downloading data:   0%|          | 0.00/181k [00:00<?, ?B/s]"
      ]
     },
     "metadata": {},
     "output_type": "display_data"
    },
    {
     "data": {
      "application/vnd.jupyter.widget-view+json": {
       "model_id": "a17f197dafb54dc7a64283b9a3b032ef",
       "version_major": 2,
       "version_minor": 0
      },
      "text/plain": [
       "Downloading data:   0%|          | 0.00/181k [00:00<?, ?B/s]"
      ]
     },
     "metadata": {},
     "output_type": "display_data"
    },
    {
     "data": {
      "application/vnd.jupyter.widget-view+json": {
       "model_id": "58f4f92a4cce4cff81b8997ec630cf94",
       "version_major": 2,
       "version_minor": 0
      },
      "text/plain": [
       "Generating train split:   0%|          | 0/133318 [00:00<?, ? examples/s]"
      ]
     },
     "metadata": {},
     "output_type": "display_data"
    },
    {
     "data": {
      "application/vnd.jupyter.widget-view+json": {
       "model_id": "2bcd8ca7b1704f8bb71c8edfd883b5c0",
       "version_major": 2,
       "version_minor": 0
      },
      "text/plain": [
       "Generating validation split:   0%|          | 0/1269 [00:00<?, ? examples/s]"
      ]
     },
     "metadata": {},
     "output_type": "display_data"
    },
    {
     "data": {
      "application/vnd.jupyter.widget-view+json": {
       "model_id": "d0eb281f850640d49b2db9151f53abee",
       "version_major": 2,
       "version_minor": 0
      },
      "text/plain": [
       "Generating test split:   0%|          | 0/1269 [00:00<?, ? examples/s]"
      ]
     },
     "metadata": {},
     "output_type": "display_data"
    }
   ],
   "source": [
    "from datasets import load_dataset\n",
    "\n",
    "dataset = load_dataset(\"mt_eng_vietnamese\", 'iwslt2015-en-vi')"
   ]
  },
  {
   "cell_type": "code",
   "execution_count": null,
   "id": "493b22ea",
   "metadata": {},
   "outputs": [
    {
     "name": "stdout",
     "output_type": "stream",
     "text": [
      "                                                  English  \\\n",
      "0       Rachel Pike : The science behind a climate hea...   \n",
      "1       In 4 minutes , atmospheric chemist Rachel Pike...   \n",
      "2       I &apos;d like to talk to you today about the ...   \n",
      "3       Headlines that look like this when they have t...   \n",
      "4       They are both two branches of the same field o...   \n",
      "...                                                   ...   \n",
      "133313                Thank you very much for your time .   \n",
      "133314                                                      \n",
      "133315  Didier Sornette : How we can predict the next ...   \n",
      "133316  The 2007-2008 financial crisis , you might thi...   \n",
      "133317                                                      \n",
      "\n",
      "                                               Vietnamese  \n",
      "0                Khoa học đằng sau một tiêu đề về khí hậu  \n",
      "1       Trong 4 phút , chuyên gia hoá học khí quyển Ra...  \n",
      "2       Tôi muốn cho các bạn biết về sự to lớn của nhữ...  \n",
      "3       Có những dòng trông như thế này khi bàn về biế...  \n",
      "4       Cả hai đều là một nhánh của cùng một lĩnh vực ...  \n",
      "...                                                   ...  \n",
      "133313                          Rất cảm ơn đã lắng nghe .  \n",
      "133314                                                     \n",
      "133315  Paul Pholeros : Làm sao để bớt nghèo khổ ? Hãy...  \n",
      "133316  Năm 1985 , kiến trúc sư Paul Pholeros được gia...  \n",
      "133317                                                     \n",
      "\n",
      "[133318 rows x 2 columns]\n"
     ]
    }
   ],
   "source": [
    "train_data = dataset[\"train\"]\n",
    "\n",
    "# Extract English and Vietnamese translations\n",
    "english_translations = [sample['translation']['en'] for sample in train_data]\n",
    "vietnamese_translations = [sample['translation']['vi'] for sample in train_data]\n",
    "\n",
    "# Create DataFrame\n",
    "df = pd.DataFrame({'English': english_translations, 'Vietnamese': vietnamese_translations})\n",
    "\n",
    "print(df)"
   ]
  },
  {
   "cell_type": "code",
   "execution_count": null,
   "id": "34d1ee39",
   "metadata": {},
   "outputs": [],
   "source": []
  },
  {
   "attachments": {},
   "cell_type": "markdown",
   "id": "276ce789",
   "metadata": {},
   "source": [
    "## Exploratory Data Analysis"
   ]
  },
  {
   "cell_type": "code",
   "execution_count": null,
   "id": "20c7501c",
   "metadata": {},
   "outputs": [],
   "source": []
  },
  {
   "attachments": {},
   "cell_type": "markdown",
   "id": "7186d895",
   "metadata": {},
   "source": [
    "## Data Visualizations"
   ]
  },
  {
   "cell_type": "code",
   "execution_count": null,
   "id": "e5de9836",
   "metadata": {},
   "outputs": [],
   "source": []
  },
  {
   "attachments": {},
   "cell_type": "markdown",
   "id": "e6d44766",
   "metadata": {},
   "source": [
    "## ML Analysis"
   ]
  },
  {
   "cell_type": "code",
   "execution_count": null,
   "id": "560f3408",
   "metadata": {},
   "outputs": [],
   "source": []
  },
  {
   "attachments": {},
   "cell_type": "markdown",
   "id": "f34194c8",
   "metadata": {},
   "source": [
    "## Reflection\n",
    "\n",
    "\n",
    "## Next Steps"
   ]
  }
 ],
 "metadata": {
  "kernelspec": {
   "display_name": "Python 3 (ipykernel)",
   "language": "python",
   "name": "python3"
  },
  "language_info": {
   "codemirror_mode": {
    "name": "ipython",
    "version": 3
   },
   "file_extension": ".py",
   "mimetype": "text/x-python",
   "name": "python",
   "nbconvert_exporter": "python",
   "pygments_lexer": "ipython3",
   "version": "3.9.7"
  }
 },
 "nbformat": 4,
 "nbformat_minor": 5
}
