{
 "cells": [
  {
   "cell_type": "markdown",
   "id": "b338dd53",
   "metadata": {},
   "source": [
    "## Project Introduction\n",
    "\n",
    "In this project, we seek to use LLMs to translate phrases from foreign languages to English and compare them with the translation found within the dataset to ascertain the accuracy of LLM translations."
   ]
  },
  {
   "cell_type": "markdown",
   "id": "fc6e938c",
   "metadata": {},
   "source": [
    "## Data Preparation"
   ]
  },
  {
   "cell_type": "code",
   "execution_count": 2,
   "id": "a47a83e3",
   "metadata": {},
   "outputs": [],
   "source": [
    "import pandas as pd"
   ]
  },
  {
   "cell_type": "code",
   "execution_count": 5,
   "id": "4b6ed5d5",
   "metadata": {},
   "outputs": [
    {
     "name": "stderr",
     "output_type": "stream",
     "text": [
      "Downloading data: 100%|██████████| 17.8M/17.8M [00:01<00:00, 10.3MB/s]\n",
      "Downloading data: 100%|██████████| 181k/181k [00:00<00:00, 1.64MB/s]\n",
      "Downloading data: 100%|██████████| 181k/181k [00:00<00:00, 2.26MB/s]\n"
     ]
    },
    {
     "data": {
      "application/vnd.jupyter.widget-view+json": {
       "model_id": "d21b9b74793e46c9a4ca274eafd5935d",
       "version_major": 2,
       "version_minor": 0
      },
      "text/plain": [
       "Generating train split:   0%|          | 0/133318 [00:00<?, ? examples/s]"
      ]
     },
     "metadata": {},
     "output_type": "display_data"
    },
    {
     "data": {
      "application/vnd.jupyter.widget-view+json": {
       "model_id": "3c38abab2dfa426d8889fe59a5872b67",
       "version_major": 2,
       "version_minor": 0
      },
      "text/plain": [
       "Generating validation split:   0%|          | 0/1269 [00:00<?, ? examples/s]"
      ]
     },
     "metadata": {},
     "output_type": "display_data"
    },
    {
     "data": {
      "application/vnd.jupyter.widget-view+json": {
       "model_id": "83846353fe104165a184a6469c36589c",
       "version_major": 2,
       "version_minor": 0
      },
      "text/plain": [
       "Generating test split:   0%|          | 0/1269 [00:00<?, ? examples/s]"
      ]
     },
     "metadata": {},
     "output_type": "display_data"
    }
   ],
   "source": [
    "from datasets import load_dataset\n",
    "\n",
    "dataset = load_dataset(\"mt_eng_vietnamese\", 'iwslt2015-en-vi')"
   ]
  },
  {
   "cell_type": "code",
   "execution_count": 7,
   "id": "493b22ea",
   "metadata": {},
   "outputs": [
    {
     "name": "stdout",
     "output_type": "stream",
     "text": [
      "                                             English  \\\n",
      "0  Rachel Pike : The science behind a climate hea...   \n",
      "1  In 4 minutes , atmospheric chemist Rachel Pike...   \n",
      "2  I &apos;d like to talk to you today about the ...   \n",
      "3  Headlines that look like this when they have t...   \n",
      "4  They are both two branches of the same field o...   \n",
      "\n",
      "                                          Vietnamese  \n",
      "0           Khoa học đằng sau một tiêu đề về khí hậu  \n",
      "1  Trong 4 phút , chuyên gia hoá học khí quyển Ra...  \n",
      "2  Tôi muốn cho các bạn biết về sự to lớn của nhữ...  \n",
      "3  Có những dòng trông như thế này khi bàn về biế...  \n",
      "4  Cả hai đều là một nhánh của cùng một lĩnh vực ...  \n"
     ]
    }
   ],
   "source": [
    "train_data = dataset[\"train\"]\n",
    "validation_data = dataset['validation']\n",
    "test_data = dataset['test']\n",
    "\n",
    "# Extract English and Vietnamese translations\n",
    "english_translations = [sample['translation']['en'] for sample in train_data]\n",
    "vietnamese_translations = [sample['translation']['vi'] for sample in train_data]\n",
    "\n",
    "# Create DataFrame\n",
    "df = pd.DataFrame({'English': english_translations, 'Vietnamese': vietnamese_translations})\n",
    "\n",
    "print(df.head())"
   ]
  },
  {
   "cell_type": "code",
   "execution_count": null,
   "id": "34d1ee39",
   "metadata": {},
   "outputs": [],
   "source": []
  },
  {
   "cell_type": "markdown",
   "id": "276ce789",
   "metadata": {},
   "source": [
    "## Exploratory Data Analysis"
   ]
  },
  {
   "cell_type": "code",
   "execution_count": null,
   "id": "20c7501c",
   "metadata": {},
   "outputs": [],
   "source": []
  },
  {
   "cell_type": "markdown",
   "id": "7186d895",
   "metadata": {},
   "source": [
    "## Data Visualizations"
   ]
  },
  {
   "cell_type": "code",
   "execution_count": null,
   "id": "e5de9836",
   "metadata": {},
   "outputs": [],
   "source": []
  },
  {
   "cell_type": "markdown",
   "id": "e6d44766",
   "metadata": {},
   "source": [
    "## ML Analysis"
   ]
  },
  {
   "cell_type": "code",
   "execution_count": null,
   "id": "560f3408",
   "metadata": {},
   "outputs": [],
   "source": []
  },
  {
   "cell_type": "markdown",
   "id": "f34194c8",
   "metadata": {},
   "source": [
    "## Reflection\n",
    "\n",
    "\n",
    "## Next Steps"
   ]
  }
 ],
 "metadata": {
  "kernelspec": {
   "display_name": "Python 3 (ipykernel)",
   "language": "python",
   "name": "python3"
  },
  "language_info": {
   "codemirror_mode": {
    "name": "ipython",
    "version": 3
   },
   "file_extension": ".py",
   "mimetype": "text/x-python",
   "name": "python",
   "nbconvert_exporter": "python",
   "pygments_lexer": "ipython3",
   "version": "3.9.7"
  }
 },
 "nbformat": 4,
 "nbformat_minor": 5
}
